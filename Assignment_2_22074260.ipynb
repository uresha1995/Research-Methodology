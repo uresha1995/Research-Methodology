        "7d9ab1bf3e5f4bb9956d21faf29f9eb1": {
          "model_module": "@jupyter-widgets/controls",
          "model_name": "DescriptionStyleModel",
          "model_module_version": "1.5.0",
          "state": {
            "_model_module": "@jupyter-widgets/controls",
            "_model_module_version": "1.5.0",
            "_model_name": "DescriptionStyleModel",
            "_view_count": null,
            "_view_module": "@jupyter-widgets/base",
            "_view_module_version": "1.2.0",
            "_view_name": "StyleView",
            "description_width": ""
          }
        },
        "cd9af0f15ead42349425a913cdbaa8b9": {
          "model_module": "@jupyter-widgets/base",
          "model_name": "LayoutModel",
          "model_module_version": "1.2.0",
          "state": {
            "_model_module": "@jupyter-widgets/base",
            "_model_module_version": "1.2.0",
            "_model_name": "LayoutModel",
            "_view_count": null,
            "_view_module": "@jupyter-widgets/base",
            "_view_module_version": "1.2.0",
            "_view_name": "LayoutView",
            "align_content": null,
            "align_items": null,
            "align_self": null,
            "border": null,
            "bottom": null,
            "display": null,
            "flex": null,
            "flex_flow": null,
            "grid_area": null,
            "grid_auto_columns": null,
            "grid_auto_flow": null,
            "grid_auto_rows": null,
            "grid_column": null,
            "grid_gap": null,
            "grid_row": null,
            "grid_template_areas": null,
            "grid_template_columns": null,
            "grid_template_rows": null,
            "height": null,
            "justify_content": null,
            "justify_items": null,
            "left": null,
            "margin": null,
            "max_height": null,
            "max_width": null,
            "min_height": null,
            "min_width": null,
            "object_fit": null,
            "object_position": null,
            "order": null,
            "overflow": null,
            "overflow_x": null,
            "overflow_y": null,
            "padding": null,
            "right": null,
            "top": null,
            "visibility": null,
            "width": null
          }
        },
        "d2a5621099b74f05b2a77504def766ea": {
          "model_module": "@jupyter-widgets/controls",
          "model_name": "ProgressStyleModel",
          "model_module_version": "1.5.0",
          "state": {
            "_model_module": "@jupyter-widgets/controls",
            "_model_module_version": "1.5.0",
            "_model_name": "ProgressStyleModel",
            "_view_count": null,
            "_view_module": "@jupyter-widgets/base",
            "_view_module_version": "1.2.0",
            "_view_name": "StyleView",
            "bar_color": null,
            "description_width": ""
          }
        },
        "79dbc22645ef464095a2344bb16747b0": {
          "model_module": "@jupyter-widgets/base",
          "model_name": "LayoutModel",
          "model_module_version": "1.2.0",
          "state": {
            "_model_module": "@jupyter-widgets/base",
            "_model_module_version": "1.2.0",
            "_model_name": "LayoutModel",
            "_view_count": null,
            "_view_module": "@jupyter-widgets/base",
            "_view_module_version": "1.2.0",
            "_view_name": "LayoutView",
            "align_content": null,
            "align_items": null,
            "align_self": null,
            "border": null,
            "bottom": null,
            "display": null,
            "flex": null,
            "flex_flow": null,
            "grid_area": null,
            "grid_auto_columns": null,
            "grid_auto_flow": null,
            "grid_auto_rows": null,
            "grid_column": null,
            "grid_gap": null,
            "grid_row": null,
            "grid_template_areas": null,
            "grid_template_columns": null,
            "grid_template_rows": null,
            "height": null,
            "justify_content": null,
            "justify_items": null,
            "left": null,
            "margin": null,
            "max_height": null,
            "max_width": null,
            "min_height": null,
            "min_width": null,
            "object_fit": null,
            "object_position": null,
            "order": null,
            "overflow": null,
            "overflow_x": null,
            "overflow_y": null,
            "padding": null,
            "right": null,
            "top": null,
            "visibility": null,
            "width": null
          }
        },
        "22d09dc90b6746a286ca609e15f15e54": {
          "model_module": "@jupyter-widgets/controls",
          "model_name": "DescriptionStyleModel",
          "model_module_version": "1.5.0",
          "state": {
            "_model_module": "@jupyter-widgets/controls",
            "_model_module_version": "1.5.0",
            "_model_name": "DescriptionStyleModel",
            "_view_count": null,
            "_view_module": "@jupyter-widgets/base",
            "_view_module_version": "1.2.0",
            "_view_name": "StyleView",
            "description_width": ""
          }
        },
        "cded481364e94b2a9dcdef22ca146d18": {
          "model_module": "@jupyter-widgets/controls",
          "model_name": "HBoxModel",
          "model_module_version": "1.5.0",
          "state": {
            "_dom_classes": [],
            "_model_module": "@jupyter-widgets/controls",
            "_model_module_version": "1.5.0",
            "_model_name": "HBoxModel",
            "_view_count": null,
            "_view_module": "@jupyter-widgets/controls",
            "_view_module_version": "1.5.0",
            "_view_name": "HBoxView",
            "box_style": "",
            "children": [
              "IPY_MODEL_6689fbf4175f466cbaa901b0d78aa1bb",
              "IPY_MODEL_8ebcf300ccd74b1a93c9f9a75ead7b6b",
              "IPY_MODEL_178502cc939e4ca2883fbe6652a4093f"
            ],
            "layout": "IPY_MODEL_630561d895f344a289c5336e5a2a9caf"
          }
        },
        "6689fbf4175f466cbaa901b0d78aa1bb": {
          "model_module": "@jupyter-widgets/controls",
          "model_name": "HTMLModel",
          "model_module_version": "1.5.0",
          "state": {
            "_dom_classes": [],
            "_model_module": "@jupyter-widgets/controls",
            "_model_module_version": "1.5.0",
            "_model_name": "HTMLModel",
            "_view_count": null,
            "_view_module": "@jupyter-widgets/controls",
            "_view_module_version": "1.5.0",
            "_view_name": "HTMLView",
            "description": "",
            "description_tooltip": null,
            "layout": "IPY_MODEL_6a26aee97d614bab82f3483b41da9b82",
            "placeholder": "​",
            "style": "IPY_MODEL_c409d3a7154548ce9464645872494177",
            "value": "Map: 100%"
          }
        },
        "8ebcf300ccd74b1a93c9f9a75ead7b6b": {
          "model_module": "@jupyter-widgets/controls",
          "model_name": "FloatProgressModel",
          "model_module_version": "1.5.0",
          "state": {
            "_dom_classes": [],
            "_model_module": "@jupyter-widgets/controls",
            "_model_module_version": "1.5.0",
            "_model_name": "FloatProgressModel",
            "_view_count": null,
            "_view_module": "@jupyter-widgets/controls",
            "_view_module_version": "1.5.0",
            "_view_name": "ProgressView",
            "bar_style": "success",
            "description": "",
            "description_tooltip": null,
            "layout": "IPY_MODEL_fcced9f08c9948c5af37e060be509c32",
            "max": 1000,
            "min": 0,
            "orientation": "horizontal",
            "style": "IPY_MODEL_25719b666aab47f48d3a168595302702",
            "value": 1000
          }
        },
        "178502cc939e4ca2883fbe6652a4093f": {
          "model_module": "@jupyter-widgets/controls",
          "model_name": "HTMLModel",
          "model_module_version": "1.5.0",
          "state": {
            "_dom_classes": [],
            "_model_module": "@jupyter-widgets/controls",
            "_model_module_version": "1.5.0",
            "_model_name": "HTMLModel",
            "_view_count": null,
            "_view_module": "@jupyter-widgets/controls",
            "_view_module_version": "1.5.0",
            "_view_name": "HTMLView",
            "description": "",
            "description_tooltip": null,
            "layout": "IPY_MODEL_7389732295fe4952a67744d41fb25eaf",
            "placeholder": "​",
            "style": "IPY_MODEL_961e26698be54da080b84375a6466ddb",
            "value": " 1000/1000 [00:01&lt;00:00, 914.24 examples/s]"
          }
        },
        "630561d895f344a289c5336e5a2a9caf": {
          "model_module": "@jupyter-widgets/base",
          "model_name": "LayoutModel",
          "model_module_version": "1.2.0",
          "state": {
            "_model_module": "@jupyter-widgets/base",
            "_model_module_version": "1.2.0",
            "_model_name": "LayoutModel",
            "_view_count": null,
            "_view_module": "@jupyter-widgets/base",
            "_view_module_version": "1.2.0",
            "_view_name": "LayoutView",
            "align_content": null,
            "align_items": null,
            "align_self": null,
            "border": null,
            "bottom": null,
            "display": null,
            "flex": null,
            "flex_flow": null,
            "grid_area": null,
            "grid_auto_columns": null,
            "grid_auto_flow": null,
            "grid_auto_rows": null,
            "grid_column": null,
            "grid_gap": null,
            "grid_row": null,
            "grid_template_areas": null,
            "grid_template_columns": null,
            "grid_template_rows": null,
            "height": null,
            "justify_content": null,
            "justify_items": null,
            "left": null,
            "margin": null,
            "max_height": null,
            "max_width": null,
            "min_height": null,
            "min_width": null,
            "object_fit": null,
            "object_position": null,
            "order": null,
            "overflow": null,
            "overflow_x": null,
            "overflow_y": null,
            "padding": null,
            "right": null,
            "top": null,
            "visibility": null,
            "width": null
          }
        },
        "6a26aee97d614bab82f3483b41da9b82": {
          "model_module": "@jupyter-widgets/base",
          "model_name": "LayoutModel",
          "model_module_version": "1.2.0",
          "state": {
            "_model_module": "@jupyter-widgets/base",
            "_model_module_version": "1.2.0",
            "_model_name": "LayoutModel",
            "_view_count": null,
            "_view_module": "@jupyter-widgets/base",
            "_view_module_version": "1.2.0",
            "_view_name": "LayoutView",
            "align_content": null,
            "align_items": null,
            "align_self": null,
            "border": null,
            "bottom": null,
            "display": null,
            "flex": null,
            "flex_flow": null,
            "grid_area": null,
            "grid_auto_columns": null,
            "grid_auto_flow": null,
            "grid_auto_rows": null,
            "grid_column": null,
            "grid_gap": null,
            "grid_row": null,
            "grid_template_areas": null,
            "grid_template_columns": null,
            "grid_template_rows": null,
            "height": null,
            "justify_content": null,
            "justify_items": null,
            "left": null,
            "margin": null,
            "max_height": null,
            "max_width": null,
            "min_height": null,
            "min_width": null,
            "object_fit": null,
            "object_position": null,
            "order": null,
            "overflow": null,
            "overflow_x": null,
            "overflow_y": null,
            "padding": null,
            "right": null,
            "top": null,
            "visibility": null,
            "width": null
          }
        },
        "c409d3a7154548ce9464645872494177": {
          "model_module": "@jupyter-widgets/controls",
          "model_name": "DescriptionStyleModel",
          "model_module_version": "1.5.0",
          "state": {
            "_model_module": "@jupyter-widgets/controls",
            "_model_module_version": "1.5.0",
            "_model_name": "DescriptionStyleModel",
            "_view_count": null,
            "_view_module": "@jupyter-widgets/base",
            "_view_module_version": "1.2.0",
            "_view_name": "StyleView",
            "description_width": ""
          }
        },
        "fcced9f08c9948c5af37e060be509c32": {
          "model_module": "@jupyter-widgets/base",
          "model_name": "LayoutModel",
          "model_module_version": "1.2.0",
          "state": {
            "_model_module": "@jupyter-widgets/base",
            "_model_module_version": "1.2.0",
            "_model_name": "LayoutModel",
            "_view_count": null,
            "_view_module": "@jupyter-widgets/base",
            "_view_module_version": "1.2.0",
            "_view_name": "LayoutView",
            "align_content": null,
            "align_items": null,
            "align_self": null,
            "border": null,
            "bottom": null,
            "display": null,
            "flex": null,
            "flex_flow": null,
            "grid_area": null,
            "grid_auto_columns": null,
            "grid_auto_flow": null,
            "grid_auto_rows": null,
            "grid_column": null,
            "grid_gap": null,
            "grid_row": null,
            "grid_template_areas": null,
            "grid_template_columns": null,
            "grid_template_rows": null,
            "height": null,
            "justify_content": null,
            "justify_items": null,
            "left": null,
            "margin": null,
            "max_height": null,
            "max_width": null,
            "min_height": null,
            "min_width": null,
            "object_fit": null,
            "object_position": null,
            "order": null,
            "overflow": null,
            "overflow_x": null,
            "overflow_y": null,
            "padding": null,
            "right": null,
            "top": null,
            "visibility": null,
            "width": null
          }
        },
        "25719b666aab47f48d3a168595302702": {
          "model_module": "@jupyter-widgets/controls",
          "model_name": "ProgressStyleModel",
          "model_module_version": "1.5.0",
          "state": {
            "_model_module": "@jupyter-widgets/controls",
            "_model_module_version": "1.5.0",
            "_model_name": "ProgressStyleModel",
            "_view_count": null,
            "_view_module": "@jupyter-widgets/base",
            "_view_module_version": "1.2.0",
            "_view_name": "StyleView",
            "bar_color": null,
            "description_width": ""
          }
        },
        "7389732295fe4952a67744d41fb25eaf": {
          "model_module": "@jupyter-widgets/base",
          "model_name": "LayoutModel",
          "model_module_version": "1.2.0",
          "state": {
            "_model_module": "@jupyter-widgets/base",
            "_model_module_version": "1.2.0",
            "_model_name": "LayoutModel",
            "_view_count": null,
            "_view_module": "@jupyter-widgets/base",
            "_view_module_version": "1.2.0",
            "_view_name": "LayoutView",
            "align_content": null,
            "align_items": null,
            "align_self": null,
            "border": null,
            "bottom": null,
            "display": null,
            "flex": null,
            "flex_flow": null,
            "grid_area": null,
            "grid_auto_columns": null,
            "grid_auto_flow": null,
            "grid_auto_rows": null,
            "grid_column": null,
            "grid_gap": null,
            "grid_row": null,
            "grid_template_areas": null,
            "grid_template_columns": null,
            "grid_template_rows": null,
            "height": null,
            "justify_content": null,
            "justify_items": null,
            "left": null,
            "margin": null,
            "max_height": null,
            "max_width": null,
            "min_height": null,
            "min_width": null,
            "object_fit": null,
            "object_position": null,
            "order": null,
            "overflow": null,
            "overflow_x": null,
            "overflow_y": null,
            "padding": null,
            "right": null,
            "top": null,
            "visibility": null,
            "width": null
          }
        },
        "961e26698be54da080b84375a6466ddb": {
          "model_module": "@jupyter-widgets/controls",
          "model_name": "DescriptionStyleModel",
          "model_module_version": "1.5.0",
          "state": {
            "_model_module": "@jupyter-widgets/controls",
            "_model_module_version": "1.5.0",
            "_model_name": "DescriptionStyleModel",
            "_view_count": null,
            "_view_module": "@jupyter-widgets/base",
            "_view_module_version": "1.2.0",
            "_view_name": "StyleView",
            "description_width": ""
          }
        }
      }
    }
  },
  "cells": [
    {
      "cell_type": "markdown",
      "metadata": {
        "id": "view-in-github",
        "colab_type": "text"
      },
      "source": [
        "<a href=\"https://colab.research.google.com/github/uresha1995/Research-Methodology/blob/main/Assignment_2_22074260.ipynb\" target=\"_parent\"><img src=\"https://colab.research.google.com/assets/colab-badge.svg\" alt=\"Open In Colab\"/></a>"
      ]
    },
    {
      "cell_type": "markdown",
      "source": [
        "## **Sentiment Analysis on the IMDb dataset**"
      ],
      "metadata": {
        "id": "a1_RCvgucniU"
      }
    },
    {
      "cell_type": "code",
      "execution_count": null,
      "metadata": {
        "colab": {
          "base_uri": "https://localhost:8080/"
        },
        "id": "4pOvqSBc7rrr",
        "outputId": "7be3e146-346a-49ac-f636-6dbf58e48dbe"
      },
      "outputs": [
        {
          "output_type": "stream",
          "name": "stdout",
          "text": [
            "Requirement already satisfied: transformers==4.38.2 in /usr/local/lib/python3.11/dist-packages (4.38.2)\n",
            "Requirement already satisfied: datasets==2.18.0 in /usr/local/lib/python3.11/dist-packages (2.18.0)\n",
            "Requirement already satisfied: evaluate==0.4.1 in /usr/local/lib/python3.11/dist-packages (0.4.1)\n",
            "Requirement already satisfied: filelock in /usr/local/lib/python3.11/dist-packages (from transformers==4.38.2) (3.18.0)\n",
            "Requirement already satisfied: huggingface-hub<1.0,>=0.19.3 in /usr/local/lib/python3.11/dist-packages (from transformers==4.38.2) (0.33.1)\n",
            "Requirement already satisfied: numpy>=1.17 in /usr/local/lib/python3.11/dist-packages (from transformers==4.38.2) (1.26.4)\n",
            "Requirement already satisfied: packaging>=20.0 in /usr/local/lib/python3.11/dist-packages (from transformers==4.38.2) (24.2)\n",
            "Requirement already satisfied: pyyaml>=5.1 in /usr/local/lib/python3.11/dist-packages (from transformers==4.38.2) (6.0.2)\n",
            "Requirement already satisfied: regex!=2019.12.17 in /usr/local/lib/python3.11/dist-packages (from transformers==4.38.2) (2024.11.6)\n",
            "Requirement already satisfied: requests in /usr/local/lib/python3.11/dist-packages (from transformers==4.38.2) (2.32.3)\n",
            "Requirement already satisfied: tokenizers<0.19,>=0.14 in /usr/local/lib/python3.11/dist-packages (from transformers==4.38.2) (0.15.2)\n",
            "Requirement already satisfied: safetensors>=0.4.1 in /usr/local/lib/python3.11/dist-packages (from transformers==4.38.2) (0.5.3)\n",
            "Requirement already satisfied: tqdm>=4.27 in /usr/local/lib/python3.11/dist-packages (from transformers==4.38.2) (4.67.1)\n",
            "Requirement already satisfied: pyarrow>=12.0.0 in /usr/local/lib/python3.11/dist-packages (from datasets==2.18.0) (18.1.0)\n",
            "Requirement already satisfied: pyarrow-hotfix in /usr/local/lib/python3.11/dist-packages (from datasets==2.18.0) (0.7)\n",
            "Requirement already satisfied: dill<0.3.9,>=0.3.0 in /usr/local/lib/python3.11/dist-packages (from datasets==2.18.0) (0.3.7)\n",
            "Requirement already satisfied: pandas in /usr/local/lib/python3.11/dist-packages (from datasets==2.18.0) (2.2.2)\n",
            "Requirement already satisfied: xxhash in /usr/local/lib/python3.11/dist-packages (from datasets==2.18.0) (3.5.0)\n",
            "Requirement already satisfied: multiprocess in /usr/local/lib/python3.11/dist-packages (from datasets==2.18.0) (0.70.15)\n",
            "Requirement already satisfied: fsspec<=2024.2.0,>=2023.1.0 in /usr/local/lib/python3.11/dist-packages (from fsspec[http]<=2024.2.0,>=2023.1.0->datasets==2.18.0) (2024.2.0)\n",
            "Requirement already satisfied: aiohttp in /usr/local/lib/python3.11/dist-packages (from datasets==2.18.0) (3.11.15)\n",
            "Requirement already satisfied: responses<0.19 in /usr/local/lib/python3.11/dist-packages (from evaluate==0.4.1) (0.18.0)\n",
            "Requirement already satisfied: aiohappyeyeballs>=2.3.0 in /usr/local/lib/python3.11/dist-packages (from aiohttp->datasets==2.18.0) (2.6.1)\n",
            "Requirement already satisfied: aiosignal>=1.1.2 in /usr/local/lib/python3.11/dist-packages (from aiohttp->datasets==2.18.0) (1.3.2)\n",
            "Requirement already satisfied: attrs>=17.3.0 in /usr/local/lib/python3.11/dist-packages (from aiohttp->datasets==2.18.0) (25.3.0)\n",
            "Requirement already satisfied: frozenlist>=1.1.1 in /usr/local/lib/python3.11/dist-packages (from aiohttp->datasets==2.18.0) (1.7.0)\n",
            "Requirement already satisfied: multidict<7.0,>=4.5 in /usr/local/lib/python3.11/dist-packages (from aiohttp->datasets==2.18.0) (6.6.3)\n",
            "Requirement already satisfied: propcache>=0.2.0 in /usr/local/lib/python3.11/dist-packages (from aiohttp->datasets==2.18.0) (0.3.2)\n",
            "Requirement already satisfied: yarl<2.0,>=1.17.0 in /usr/local/lib/python3.11/dist-packages (from aiohttp->datasets==2.18.0) (1.20.1)\n",
            "Requirement already satisfied: typing-extensions>=3.7.4.3 in /usr/local/lib/python3.11/dist-packages (from huggingface-hub<1.0,>=0.19.3->transformers==4.38.2) (4.14.0)\n",
            "Requirement already satisfied: hf-xet<2.0.0,>=1.1.2 in /usr/local/lib/python3.11/dist-packages (from huggingface-hub<1.0,>=0.19.3->transformers==4.38.2) (1.1.5)\n",
            "Requirement already satisfied: charset-normalizer<4,>=2 in /usr/local/lib/python3.11/dist-packages (from requests->transformers==4.38.2) (3.4.2)\n",
            "Requirement already satisfied: idna<4,>=2.5 in /usr/local/lib/python3.11/dist-packages (from requests->transformers==4.38.2) (3.10)\n",
            "Requirement already satisfied: urllib3<3,>=1.21.1 in /usr/local/lib/python3.11/dist-packages (from requests->transformers==4.38.2) (2.4.0)\n",
            "Requirement already satisfied: certifi>=2017.4.17 in /usr/local/lib/python3.11/dist-packages (from requests->transformers==4.38.2) (2025.6.15)\n",
            "Requirement already satisfied: python-dateutil>=2.8.2 in /usr/local/lib/python3.11/dist-packages (from pandas->datasets==2.18.0) (2.9.0.post0)\n",
            "Requirement already satisfied: pytz>=2020.1 in /usr/local/lib/python3.11/dist-packages (from pandas->datasets==2.18.0) (2025.2)\n",
            "Requirement already satisfied: tzdata>=2022.7 in /usr/local/lib/python3.11/dist-packages (from pandas->datasets==2.18.0) (2025.2)\n",
            "Requirement already satisfied: six>=1.5 in /usr/local/lib/python3.11/dist-packages (from python-dateutil>=2.8.2->pandas->datasets==2.18.0) (1.17.0)\n"
          ]
        }
      ],
      "source": [
        "!pip install --no-cache-dir transformers==4.38.2 datasets==2.18.0 evaluate==0.4.1"
      ]
    },
    {
      "cell_type": "code",
      "source": [
        "#Import libraries\n",
        "\n",
        "from datasets import load_dataset\n",
        "from transformers import BertTokenizerFast, BertForSequenceClassification, TrainingArguments\n",
        "from transformers import DataCollatorWithPadding\n",
        "from torch.utils.data import DataLoader\n",
        "import evaluate\n",
        "import torch\n",
        "from tqdm import tqdm\n",
        "import re\n",
        "import random\n",
        "import seaborn as sns"
      ],
      "metadata": {
        "id": "3rFk4gLz7ysG"
      },
      "execution_count": null,
      "outputs": []
    },
    {
      "cell_type": "code",
      "source": [
        "#Download dataset from Hugging Face datasets\n",
        "#Dataset contains 50,000 movie reviews labelled as positive (1) or negative (0)\n",
        "\n",
        "dataset = load_dataset(\"imdb\")\n",
        "print(dataset)"
      ],
      "metadata": {
        "colab": {
          "base_uri": "https://localhost:8080/"
        },
        "id": "qDn0SgyzQqXE",
        "outputId": "2e71fa50-d940-40c3-f351-3846f0f54e4d"
      },
      "execution_count": null,
      "outputs": [
        {
          "output_type": "stream",
          "name": "stdout",
          "text": [
            "DatasetDict({\n",
            "    train: Dataset({\n",
            "        features: ['text', 'label'],\n",
            "        num_rows: 25000\n",
            "    })\n",
            "    test: Dataset({\n",
            "        features: ['text', 'label'],\n",
            "        num_rows: 25000\n",
            "    })\n",
            "    unsupervised: Dataset({\n",
            "        features: ['text', 'label'],\n",
            "        num_rows: 50000\n",
            "    })\n",
            "})\n"
          ]
        }
      ]
    },
    {
      "cell_type": "code",
      "source": [
        "#Print  random reviews\n",
        "#To understand the dataset content\n",
        "\n",
        "sample_texts = [dataset[\"train\"][i][\"text\"] for i in random.sample(range(25000), 5)]\n",
        "\n",
        "for i, text in enumerate(sample_texts):\n",
        "    print(f\"--- Sample {i+1} ---\\n{text[:500]}\\n\")"
      ],
      "metadata": {
        "colab": {
          "base_uri": "https://localhost:8080/"
        },
        "id": "xUuQZPnLRH7K",
        "outputId": "b2a840e2-b246-42c2-ad3e-cff44ecd9dc4"
      },
      "execution_count": null,
      "outputs": [
        {
          "output_type": "stream",
          "name": "stdout",
          "text": [
            "--- Sample 1 ---\n",
            "At the time, \"My Left Foot\" was the little movie that could. It was hugely popular, and everyone applauded the fact that such a small, independent film could make it all the way to the Oscars.<br /><br />Since then, movies like \"My Left Foot\" are a dime a dozen, so it might be hard in retrospect to understand what all the fuss was about. It's certainly a well made and competent film, but it's clear that the bulk of its success rests on the shoulders of Daniel Day-Lewis, who immerses himself in t\n",
            "\n",
            "--- Sample 2 ---\n",
            "This film on paper looked like it could possibly be good, after watching though i realised that this film was completely terrible!! The plot has no meaning, and i think i counted the best part of 5000 cut scenes each one making the film more annoying boring and ridiculous. I watched this late night pitch black no noise at all just to add to the SCARINESS of it but the truth is the only thing that scared me was the music, what they would call tragic music, they play opera i mean be serious!! This\n",
            "\n",
            "--- Sample 3 ---\n",
            "Some kids are hiking in the mountains, and one of them goes into a large tunnel and discovers some old mummified gladiator. He puts on the gladiator's helmet and spends the rest of the movie killing all the other hikers.<br /><br />This thing is just so utterly senseless it's maddening. Here's a short list of things that don't make any sense:<br /><br />1) A guy and a girl are in their tent and they think they hear something outside. The guy goes out to investigate and finds another hiker outsid\n",
            "\n",
            "--- Sample 4 ---\n",
            "Don't you just hate it when you order steak but the restaurant gives you chicken?<br /><br />Such is how I felt watching this so-called \"Battlestar Galactica\". Arguments can be made over its quality but the fact remains, it's NOT what the fans ordered.<br /><br />Imagine if you were sitting down at that proverbial restaurant I mentioned. You have waited years for them to bring back their famous New York Strip steak which you loved. When your meal arrives, you find they've applied the name \"New Y\n",
            "\n",
            "--- Sample 5 ---\n",
            "I had the TV on for a white noise companion and heard\" $400 for a fully furnished apartment\" So I ran into the TV room expecting another 70's flick and got much more. Luckily, I could rewind to the beginning (DVR buffer) and hit the record button to watch it entirely.(Cinemax uncut and in HD no less!) Aside from some holes in the story and intermittent improbable dialog/events, this is an effective thriller worthy of your time to watch. Pretty creepy and progressive at times: Beverly D'Angelo's \n",
            "\n"
          ]
        }
      ]
    },
    {
      "cell_type": "markdown",
      "source": [
        "Preprocessing"
      ],
      "metadata": {
        "id": "6EdXnmPzQ03n"
      }
    },
    {
      "cell_type": "code",
      "source": [
        "#Remove empty and short reviews\n",
        "#less than 20 characters\n",
        "\n",
        "def rem_empty(example):\n",
        "    return len(example[\"text\"].strip()) > 20"
      ],
      "metadata": {
        "id": "_3k0M07WQ0gG"
      },
      "execution_count": null,
      "outputs": []
    },
    {
      "cell_type": "code",
      "source": [
        "#Remove HTML break tags and replace with space\n",
        "\n",
        "def clean_text(example):\n",
        "    text = example[\"text\"]\n",
        "    text = re.sub(r\"<br\\s*/?>\", \" \", text)\n",
        "    example[\"text\"] = text.strip()\n",
        "    return example"
      ],
      "metadata": {
        "id": "T8Fv0W1aRlhC"
      },
      "execution_count": null,
      "outputs": []
    },
    {
      "cell_type": "code",
      "source": [
        "#Filter out short reviews\n",
        "\n",
        "dataset[\"train\"] = dataset[\"train\"].filter(rem_empty)\n",
        "dataset[\"test\"] = dataset[\"test\"].filter(rem_empty)\n",
        "dataset = dataset.map(clean_text)"
      ],
      "metadata": {
        "id": "rYk5OoH2Q-d1"
      },
      "execution_count": null,
      "outputs": []
    },
    {
      "cell_type": "markdown",
      "source": [
        "Tokenization using BertTokenizerFast"
      ],
      "metadata": {
        "id": "HNiojL_RRwCL"
      }
    },
    {
      "cell_type": "code",
      "source": [
        "#Making subset for training and testing\n",
        "#Shuffle and take small subset to train/test faster\n",
        "\n",
        "train_data = dataset[\"train\"].shuffle(seed=42).select(range(2000))\n",
        "test_data = dataset[\"test\"].shuffle(seed=42).select(range(1000))"
      ],
      "metadata": {
        "id": "MkXVghEaSz6Q"
      },
      "execution_count": null,
      "outputs": []
    },
    {
      "cell_type": "code",
      "source": [
        "#Define tokenization function\n",
        "#Load the BERT tokenizer\n",
        "\n",
        "tokenizer = BertTokenizerFast.from_pretrained(\"bert-base-uncased\")\n",
        "\n",
        "def tokenize_function(example):\n",
        "    return tokenizer(\n",
        "        example[\"text\"],\n",
        "        truncation=True,\n",
        "        padding=\"max_length\",\n",
        "        max_length=128\n",
        "    )"
      ],
      "metadata": {
        "id": "I00So7m1R3yZ"
      },
      "execution_count": null,
      "outputs": []
    },
    {
      "cell_type": "code",
      "source": [
        "#Apply tokenization\n",
        "\n",
        "tokenized_train = small_train.map(tokenize_function, batched=True)\n",
        "tokenized_test = small_test.map(tokenize_function, batched=True)"
      ],
      "metadata": {
        "colab": {
          "base_uri": "https://localhost:8080/",
          "height": 81,
          "referenced_widgets": [
            "dbc45290ac06496c9ad75e5bfc3e98f9",
            "09c04ff4bddd41f6bae0e98943df30fd",
            "d779a15ea6c84ea2b8dcd27cfd8d708a",
            "6638b5b83bea4dd29e9c6beb1bfdbb01",
            "1fe48a776f304466be90de69baf46cbb",
            "3433171a7e87415fb6ee4a3de4f0d396",
            "7d9ab1bf3e5f4bb9956d21faf29f9eb1",
            "cd9af0f15ead42349425a913cdbaa8b9",
            "d2a5621099b74f05b2a77504def766ea",
            "79dbc22645ef464095a2344bb16747b0",
            "22d09dc90b6746a286ca609e15f15e54",
            "cded481364e94b2a9dcdef22ca146d18",
            "6689fbf4175f466cbaa901b0d78aa1bb",
            "8ebcf300ccd74b1a93c9f9a75ead7b6b",
            "178502cc939e4ca2883fbe6652a4093f",
            "630561d895f344a289c5336e5a2a9caf",
            "6a26aee97d614bab82f3483b41da9b82",
            "c409d3a7154548ce9464645872494177",
            "fcced9f08c9948c5af37e060be509c32",
            "25719b666aab47f48d3a168595302702",
            "7389732295fe4952a67744d41fb25eaf",
            "961e26698be54da080b84375a6466ddb"
          ]
        },
        "id": "HYryccZS26tl",
        "outputId": "28e82f12-2e94-40f8-b035-1e53582f656b"
      },
      "execution_count": null,
      "outputs": [
        {
          "output_type": "display_data",
          "data": {
            "text/plain": [
              "Map:   0%|          | 0/2000 [00:00<?, ? examples/s]"
            ],
            "application/vnd.jupyter.widget-view+json": {
              "version_major": 2,
              "version_minor": 0,
              "model_id": "dbc45290ac06496c9ad75e5bfc3e98f9"
            }
          },
          "metadata": {}
        },
        {
          "output_type": "display_data",
          "data": {
            "text/plain": [
              "Map:   0%|          | 0/1000 [00:00<?, ? examples/s]"
            ],
            "application/vnd.jupyter.widget-view+json": {
              "version_major": 2,
              "version_minor": 0,
              "model_id": "cded481364e94b2a9dcdef22ca146d18"
            }
          },
          "metadata": {}
        }
      ]
    },
    {
      "cell_type": "code",
      "source": [
        "#Convert to PyTorch tensor format\n",
        "#Make data compatible with DataLoader and training loop\n",
        "\n",
        "train_data.set_format(type=\"torch\", columns=[\"input_ids\", \"attention_mask\", \"label\"])\n",
        "test_data.set_format(type=\"torch\", columns=[\"input_ids\", \"attention_mask\", \"label\"])"
      ],
      "metadata": {
        "id": "WXzp9LEGScVE"
      },
      "execution_count": null,
      "outputs": []
    },
    {
      "cell_type": "code",
      "source": [
        "#Create PyTorch DataLoaders for batching during training/testing\n",
        "\n",
        "train_loader = DataLoader(train_data, batch_size=16, shuffle=True)\n",
        "test_loader = DataLoader(test_data, batch_size=16)"
      ],
      "metadata": {
        "id": "Ot2vLeti5vza"
      },
      "execution_count": null,
      "outputs": []
    },
    {
      "cell_type": "code",
      "source": [
        "#Load pre-trained BERT model for binary classification\n",
        "#Use GPU if available\n",
        "\n",
        "device = torch.device(\"cuda\" if torch.cuda.is_available() else \"cpu\")\n",
        "model = BertForSequenceClassification.from_pretrained(\"bert-base-uncased\", num_labels=2).to(device)\n"
      ],
      "metadata": {
        "colab": {
          "base_uri": "https://localhost:8080/"
        },
        "id": "fZDM6zxSS-RP",
        "outputId": "d67b9603-beec-416e-c6e2-4b2fb914d926"
      },
      "execution_count": null,
      "outputs": [
        {
          "output_type": "stream",
          "name": "stderr",
          "text": [
            "Some weights of BertForSequenceClassification were not initialized from the model checkpoint at bert-base-uncased and are newly initialized: ['classifier.bias', 'classifier.weight']\n",
            "You should probably TRAIN this model on a down-stream task to be able to use it for predictions and inference.\n"
          ]
        }
      ]
    },
    {
      "cell_type": "code",
      "source": [
        "#Optimizer for training the model\n",
        "\n",
        "from transformers import AdamW\n",
        "\n",
        "optimizer = AdamW(model.parameters(), lr=2e-5)"
      ],
      "metadata": {
        "colab": {
          "base_uri": "https://localhost:8080/"
        },
        "id": "KkhOUDVnabvz",
        "outputId": "ba704357-0c14-4e44-8509-ef70305964b1"
      },
      "execution_count": null,
      "outputs": [
        {
          "output_type": "stream",
          "name": "stderr",
          "text": [
            "/usr/local/lib/python3.11/dist-packages/transformers/optimization.py:429: FutureWarning: This implementation of AdamW is deprecated and will be removed in a future version. Use the PyTorch implementation torch.optim.AdamW instead, or set `no_deprecation_warning=True` to disable this warning\n",
            "  warnings.warn(\n"
          ]
        }
      ]
    },
    {
      "cell_type": "markdown",
      "source": [
        "Training Loop"
      ],
      "metadata": {
        "id": "ZkimFV4SdlNP"
      }
    },
    {
      "cell_type": "code",
      "source": [
        "#Fine-tune the BERT model for 2 epochs\n",
        "\n",
        "from tqdm import tqdm\n",
        "\n",
        "epochs = 2\n",
        "for epoch in range(epochs):\n",
        "    model.train()\n",
        "    total_loss = 0\n",
        "    for batch in tqdm(train_loader):\n",
        "        batch = {k: v.to(device) for k, v in batch.items()}\n",
        "        batch['labels'] = batch.pop('label')  # Ensure label is correctly named\n",
        "        outputs = model(**batch)\n",
        "        loss = outputs.loss\n",
        "        loss.backward()\n",
        "        optimizer.step()\n",
        "        optimizer.zero_grad()\n",
        "        total_loss += loss.item()\n",
        "    print(f\"Epoch {epoch + 1} - Training Loss: {total_loss:.4f}\")"
      ],
      "metadata": {
        "id": "lQcATn8JpNGI",
        "colab": {
          "base_uri": "https://localhost:8080/"
        },
        "outputId": "d3c0197e-4092-4a51-ed3c-ffacf312d928"
      },
      "execution_count": null,
      "outputs": [
        {
          "output_type": "stream",
          "name": "stderr",
          "text": [
            "100%|██████████| 125/125 [51:28<00:00, 24.71s/it]\n"
          ]
        },
        {
          "output_type": "stream",
          "name": "stdout",
          "text": [
            "Epoch 1 - Training Loss: 66.0091\n"
          ]
        },
        {
          "output_type": "stream",
          "name": "stderr",
          "text": [
            "100%|██████████| 125/125 [52:33<00:00, 25.22s/it]"
          ]
        },
        {
          "output_type": "stream",
          "name": "stdout",
          "text": [
            "Epoch 2 - Training Loss: 34.5044\n"
          ]
        },
        {
          "output_type": "stream",
          "name": "stderr",
          "text": [
            "\n"
          ]
        }
      ]
    },
    {
      "cell_type": "markdown",
      "source": [
        "Evaluation"
      ],
      "metadata": {
        "id": "fBTmgy_pxBN2"
      }
    },
    {
      "cell_type": "code",
      "source": [
        "#Evaluate model on the test dataset\n",
        "#Test accuracy and classification report\n",
        "\n",
        "from sklearn.metrics import accuracy_score, classification_report\n",
        "\n",
        "model.eval()\n",
        "all_preds = []\n",
        "all_labels = []\n",
        "\n",
        "with torch.no_grad():\n",
        "    for batch in tqdm(test_loader, desc=\"Evaluating\", leave=False):\n",
        "        batch = {k: v.to(device) for k, v in batch.items()}\n",
        "        if 'label' in batch:\n",
        "            batch['labels'] = batch.pop('label')\n",
        "        outputs = model(**batch)\n",
        "        logits = outputs.logits\n",
        "        predictions = torch.argmax(logits, dim=-1)\n",
        "        all_preds.extend(predictions.cpu().numpy())\n",
        "        all_labels.extend(batch['labels'].cpu().numpy())\n",
        "\n",
        "acc = accuracy_score(all_labels, all_preds)\n",
        "\n",
        "print(f\"Test Accuracy: {acc:.4f}\")\n",
        "print(f\"Classification Report:\")\n",
        "print(classification_report(all_labels, all_preds, target_names=[\"Negative\", \"Positive\"]))\n"
      ],
      "metadata": {
        "colab": {
          "base_uri": "https://localhost:8080/"
        },
        "id": "cxRwreQeRIf1",
        "outputId": "2f0b6a49-5bbf-48a7-bac5-33f54de99278"
      },
      "execution_count": null,
      "outputs": [
        {
          "output_type": "stream",
          "name": "stderr",
          "text": [
            "                                                           "
          ]
        },
        {
          "output_type": "stream",
          "name": "stdout",
          "text": [
            "Test Accuracy: 0.8550\n",
            "Classification Report:\n",
            "              precision    recall  f1-score   support\n",
            "\n",
            "    Negative       0.84      0.88      0.86       512\n",
            "    Positive       0.87      0.83      0.85       488\n",
            "\n",
            "    accuracy                           0.85      1000\n",
            "   macro avg       0.86      0.85      0.85      1000\n",
            "weighted avg       0.86      0.85      0.85      1000\n",
            "\n"
          ]
        },
        {
          "output_type": "stream",
          "name": "stderr",
          "text": [
            "\r"
          ]
        }
      ]
    },
    {
      "cell_type": "code",
      "source": [
        "#Confusion matrix\n",
        "\n",
        "from sklearn.metrics import confusion_matrix, ConfusionMatrixDisplay, f1_score\n",
        "import matplotlib.pyplot as plt\n",
        "\n",
        "#Compute the confusion matrix\n",
        "cm = confusion_matrix(all_labels, all_preds, labels=[0, 1])\n",
        "\n",
        "#Display the matrix\n",
        "disp = ConfusionMatrixDisplay(confusion_matrix=cm, display_labels=[\"Negative\", \"Positive\"])\n",
        "\n",
        "#Plot\n",
        "plt.figure(figsize=(6, 5))\n",
        "disp.plot(cmap=\"Blues\", values_format='d')\n",
        "plt.title(\"Confusion Matrix\")\n",
        "plt.show()"
      ],
      "metadata": {
        "colab": {
          "base_uri": "https://localhost:8080/",
          "height": 489
        },
        "id": "-84ptO_sTuIC",
        "outputId": "4748f939-a38b-4a0d-b403-df19ffede351"
      },
      "execution_count": null,
      "outputs": [
        {
          "output_type": "display_data",
          "data": {
            "text/plain": [
              "<Figure size 600x500 with 0 Axes>"
            ]
          },
          "metadata": {}
        },
        {
          "output_type": "display_data",
          "data": {
            "text/plain": [
              "<Figure size 640x480 with 2 Axes>"
            ],
            "image/png": "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\n"
          },
          "metadata": {}
        }
      ]
    },
    {
      "cell_type": "code",
      "source": [
        "#F1 score\n",
        "\n",
        "#Print F1-score\n",
        "f1 = f1_score(all_labels, all_preds)\n",
        "print(f\"F1-score: {f1:.4f}\")"
      ],
      "metadata": {
        "colab": {
          "base_uri": "https://localhost:8080/"
        },
        "id": "giBquI--uA8A",
        "outputId": "c2e4fe93-9ebf-440a-c2a9-09d759bdc64c"
      },
      "execution_count": null,
      "outputs": [
        {
          "output_type": "stream",
          "name": "stdout",
          "text": [
            "F1-score: 0.8478\n"
          ]
        }
      ]
    },
    {
      "cell_type": "markdown",
      "source": [
        "Sample prediction"
      ],
      "metadata": {
        "id": "BPxdQhKtugIy"
      }
    },
    {
      "cell_type": "code",
      "source": [
        "#Predict sentiment with confidence\n",
        "def predict_sentiment(text):\n",
        "\n",
        "    #Tokenize input and move to same device as model\n",
        "    inputs = tokenizer(text, return_tensors=\"pt\", truncation=True, padding=True).to(model.device)\n",
        "\n",
        "    #Forward pass through the model\n",
        "    outputs = model(**inputs)\n",
        "\n",
        "    #Get predicted class and confidence\n",
        "    predicted_class = torch.argmax(outputs.logits, dim=1).item()\n",
        "    return \"Positive\" if predicted_class == 1 else \"Negative\"\n",
        "\n",
        "#Example predictions\n",
        "sample_texts = [\n",
        "    \"The movie was absolutely fantastic!\",\n",
        "    \"It was a boring and predictable film.\",\n",
        "    \"I don't know how to feel about it.\",\n",
        "    \"This is the best performance I've ever seen.\",\n",
        "    \"The film tried hard but didn’t deliver much.\",\n",
        "    \"Honestly, I expected more from the director.\",\n",
        "    \"A masterpiece. Every scene was beautifully crafted\"\n",
        "]\n",
        "\n",
        "#Print result\n",
        "for text in sample_texts:\n",
        "    sentiment = predict_sentiment(text)\n",
        "    print(f\"Text: {text}\\nPredicted Sentiment: {sentiment}\\n\")"
      ],
      "metadata": {
        "colab": {
          "base_uri": "https://localhost:8080/"
        },
        "id": "Ep_mLpxUue53",
        "outputId": "813a5832-ce2f-4630-9105-5753efa9d53c"
      },
      "execution_count": null,
      "outputs": [
        {
          "output_type": "stream",
          "name": "stdout",
          "text": [
            "Text: The movie was absolutely fantastic!\n",
            "Predicted Sentiment: Positive\n",
            "\n",
            "Text: It was a boring and predictable film.\n",
            "Predicted Sentiment: Negative\n",
            "\n",
            "Text: I don't know how to feel about it.\n",
            "Predicted Sentiment: Negative\n",
            "\n",
            "Text: This is the best performance I've ever seen.\n",
            "Predicted Sentiment: Positive\n",
            "\n",
            "Text: The film tried hard but didn’t deliver much.\n",
            "Predicted Sentiment: Negative\n",
            "\n",
            "Text: Honestly, I expected more from the director.\n",
            "Predicted Sentiment: Negative\n",
            "\n",
            "Text: A masterpiece. Every scene was beautifully crafted\n",
            "Predicted Sentiment: Positive\n",
            "\n"
          ]
        }
      ]
    }
  ]
}
