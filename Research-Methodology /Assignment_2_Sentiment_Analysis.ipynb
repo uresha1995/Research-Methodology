{
  "nbformat": 4,
  "nbformat_minor": 0,
  "metadata": {
    "colab": {
      "provenance": [],
      "authorship_tag": "ABX9TyN7mLGusj1J92cItWXQ7Ksp",
      "include_colab_link": true
    },
    "kernelspec": {
      "name": "python3",
      "display_name": "Python 3"
    },
    "language_info": {
      "name": "python"
    }
  },
  "cells": [
    {
      "cell_type": "markdown",
      "metadata": {
        "id": "view-in-github",
        "colab_type": "text"
      },
      "source": [
        "<a href=\"https://colab.research.google.com/github/uresha1995/Research-Methodology/blob/main/Assignment_2_Sentiment_Analysis.ipynb\" target=\"_parent\"><img src=\"https://colab.research.google.com/assets/colab-badge.svg\" alt=\"Open In Colab\"/></a>"
      ]
    },
    {
      "cell_type": "code",
      "execution_count": null,
      "metadata": {
        "id": "z3Stk8VRdqod"
      },
      "outputs": [],

    },
    {
      "cell_type": "markdown",
      "source": [
        "**Sentiment Analysis on the IMDb dataset**"
      ],
      "metadata": {
        "id": "xXickUV_dC61"
      }
    },
    {
      "cell_type": "code",
      "execution_count": 1,
      "metadata": {
        "colab": {
          "base_uri": "https://localhost:8080/"
        },
        "id": "4pOvqSBc7rrr",
        "outputId": "0e5e69cf-3c97-41ff-b9c5-f04e54682cfa"
      },
      "outputs": [
        {
          "output_type": "stream",
          "name": "stdout",
          "text": [
            "Requirement already satisfied: transformers==4.38.2 in /usr/local/lib/python3.11/dist-packages (4.38.2)\n",
            "Requirement already satisfied: datasets==2.18.0 in /usr/local/lib/python3.11/dist-packages (2.18.0)\n",
            "Requirement already satisfied: evaluate==0.4.1 in /usr/local/lib/python3.11/dist-packages (0.4.1)\n",
            "Requirement already satisfied: filelock in /usr/local/lib/python3.11/dist-packages (from transformers==4.38.2) (3.18.0)\n",
            "Requirement already satisfied: huggingface-hub<1.0,>=0.19.3 in /usr/local/lib/python3.11/dist-packages (from transformers==4.38.2) (0.33.1)\n",
            "Requirement already satisfied: numpy>=1.17 in /usr/local/lib/python3.11/dist-packages (from transformers==4.38.2) (1.26.4)\n",
            "Requirement already satisfied: packaging>=20.0 in /usr/local/lib/python3.11/dist-packages (from transformers==4.38.2) (24.2)\n",
            "Requirement already satisfied: pyyaml>=5.1 in /usr/local/lib/python3.11/dist-packages (from transformers==4.38.2) (6.0.2)\n",
            "Requirement already satisfied: regex!=2019.12.17 in /usr/local/lib/python3.11/dist-packages (from transformers==4.38.2) (2024.11.6)\n",
            "Requirement already satisfied: requests in /usr/local/lib/python3.11/dist-packages (from transformers==4.38.2) (2.32.3)\n",
            "Requirement already satisfied: tokenizers<0.19,>=0.14 in /usr/local/lib/python3.11/dist-packages (from transformers==4.38.2) (0.15.2)\n",
            "Requirement already satisfied: safetensors>=0.4.1 in /usr/local/lib/python3.11/dist-packages (from transformers==4.38.2) (0.5.3)\n",
            "Requirement already satisfied: tqdm>=4.27 in /usr/local/lib/python3.11/dist-packages (from transformers==4.38.2) (4.67.1)\n",
            "Requirement already satisfied: pyarrow>=12.0.0 in /usr/local/lib/python3.11/dist-packages (from datasets==2.18.0) (18.1.0)\n",
            "Requirement already satisfied: pyarrow-hotfix in /usr/local/lib/python3.11/dist-packages (from datasets==2.18.0) (0.7)\n",
            "Requirement already satisfied: dill<0.3.9,>=0.3.0 in /usr/local/lib/python3.11/dist-packages (from datasets==2.18.0) (0.3.7)\n",
            "Requirement already satisfied: pandas in /usr/local/lib/python3.11/dist-packages (from datasets==2.18.0) (2.2.2)\n",
            "Requirement already satisfied: xxhash in /usr/local/lib/python3.11/dist-packages (from datasets==2.18.0) (3.5.0)\n",
            "Requirement already satisfied: multiprocess in /usr/local/lib/python3.11/dist-packages (from datasets==2.18.0) (0.70.15)\n",
            "Requirement already satisfied: fsspec<=2024.2.0,>=2023.1.0 in /usr/local/lib/python3.11/dist-packages (from fsspec[http]<=2024.2.0,>=2023.1.0->datasets==2.18.0) (2024.2.0)\n",
            "Requirement already satisfied: aiohttp in /usr/local/lib/python3.11/dist-packages (from datasets==2.18.0) (3.11.15)\n",
            "Requirement already satisfied: responses<0.19 in /usr/local/lib/python3.11/dist-packages (from evaluate==0.4.1) (0.18.0)\n",
            "Requirement already satisfied: aiohappyeyeballs>=2.3.0 in /usr/local/lib/python3.11/dist-packages (from aiohttp->datasets==2.18.0) (2.6.1)\n",
            "Requirement already satisfied: aiosignal>=1.1.2 in /usr/local/lib/python3.11/dist-packages (from aiohttp->datasets==2.18.0) (1.3.2)\n",
            "Requirement already satisfied: attrs>=17.3.0 in /usr/local/lib/python3.11/dist-packages (from aiohttp->datasets==2.18.0) (25.3.0)\n",
            "Requirement already satisfied: frozenlist>=1.1.1 in /usr/local/lib/python3.11/dist-packages (from aiohttp->datasets==2.18.0) (1.7.0)\n",
            "Requirement already satisfied: multidict<7.0,>=4.5 in /usr/local/lib/python3.11/dist-packages (from aiohttp->datasets==2.18.0) (6.6.3)\n",
            "Requirement already satisfied: propcache>=0.2.0 in /usr/local/lib/python3.11/dist-packages (from aiohttp->datasets==2.18.0) (0.3.2)\n",
            "Requirement already satisfied: yarl<2.0,>=1.17.0 in /usr/local/lib/python3.11/dist-packages (from aiohttp->datasets==2.18.0) (1.20.1)\n",
            "Requirement already satisfied: typing-extensions>=3.7.4.3 in /usr/local/lib/python3.11/dist-packages (from huggingface-hub<1.0,>=0.19.3->transformers==4.38.2) (4.14.0)\n",
            "Requirement already satisfied: hf-xet<2.0.0,>=1.1.2 in /usr/local/lib/python3.11/dist-packages (from huggingface-hub<1.0,>=0.19.3->transformers==4.38.2) (1.1.5)\n",
            "Requirement already satisfied: charset-normalizer<4,>=2 in /usr/local/lib/python3.11/dist-packages (from requests->transformers==4.38.2) (3.4.2)\n",
            "Requirement already satisfied: idna<4,>=2.5 in /usr/local/lib/python3.11/dist-packages (from requests->transformers==4.38.2) (3.10)\n",
            "Requirement already satisfied: urllib3<3,>=1.21.1 in /usr/local/lib/python3.11/dist-packages (from requests->transformers==4.38.2) (2.4.0)\n",
            "Requirement already satisfied: certifi>=2017.4.17 in /usr/local/lib/python3.11/dist-packages (from requests->transformers==4.38.2) (2025.6.15)\n",
            "Requirement already satisfied: python-dateutil>=2.8.2 in /usr/local/lib/python3.11/dist-packages (from pandas->datasets==2.18.0) (2.9.0.post0)\n",
            "Requirement already satisfied: pytz>=2020.1 in /usr/local/lib/python3.11/dist-packages (from pandas->datasets==2.18.0) (2025.2)\n",
            "Requirement already satisfied: tzdata>=2022.7 in /usr/local/lib/python3.11/dist-packages (from pandas->datasets==2.18.0) (2025.2)\n",
            "Requirement already satisfied: six>=1.5 in /usr/local/lib/python3.11/dist-packages (from python-dateutil>=2.8.2->pandas->datasets==2.18.0) (1.17.0)\n"
          ]
        }
      ],
      "source": [
        "!pip install --no-cache-dir transformers==4.38.2 datasets==2.18.0 evaluate==0.4.1"
      ]
    },
    {
      "cell_type": "code",
      "source": [
        "#Import libraries\n",
        "\n",
        "from datasets import load_dataset\n",
        "from transformers import BertTokenizerFast, BertForSequenceClassification\n",
        "from torch.utils.data import DataLoader\n",
        "import torch\n",
        "from tqdm import tqdm\n",
        "import numpy as np\n",
        "from sklearn.metrics import classification_report, confusion_matrix, ConfusionMatrixDisplay\n",
        "import matplotlib.pyplot as plt\n",
        "import random\n",
        "import re\n",
        "\n",
        "from datasets import load_dataset\n",
        "from transformers import BertTokenizerFast, BertForSequenceClassification\n",
        "from sklearn.metrics import accuracy_score, classification_report, confusion_matrix, ConfusionMatrixDisplay\n",
        "import torch\n",
        "import numpy as np\n",
        "import matplotlib.pyplot as plt\n"
      ],
      "metadata": {
        "id": "3rFk4gLz7ysG"
      },
      "execution_count": 2,
      "outputs": []
    },
    {
      "cell_type": "code",
      "source": [
        "#Download dataset\n",
        "\n",
        "dataset = load_dataset(\"imdb\")"
      ],
      "metadata": {
        "colab": {
          "base_uri": "https://localhost:8080/"
        },
        "id": "qDn0SgyzQqXE",
        "outputId": "7b0ab04b-133a-47ca-c279-d894abfad565"
      },
      "execution_count": 3,
      "outputs": [
        {
          "output_type": "stream",
          "name": "stderr",
          "text": [
            "/usr/local/lib/python3.11/dist-packages/huggingface_hub/utils/_auth.py:94: UserWarning: \n",
            "The secret `HF_TOKEN` does not exist in your Colab secrets.\n",
            "To authenticate with the Hugging Face Hub, create a token in your settings tab (https://huggingface.co/settings/tokens), set it as secret in your Google Colab and restart your session.\n",
            "You will be able to reuse this secret in all of your notebooks.\n",
            "Please note that authentication is recommended but still optional to access public models or datasets.\n",
            "  warnings.warn(\n"
          ]
        }
      ]
    },
    {
      "cell_type": "code",
      "source": [
        "#Print  random reviews\n",
        "\n",
        "sample_texts = [dataset[\"train\"][i][\"text\"] for i in random.sample(range(25000), 5)]\n",
        "\n",
        "for i, text in enumerate(sample_texts):\n",
        "    print(f\"--- Sample {i+1} ---\\n{text[:500]}\\n\")"
      ],
      "metadata": {
        "colab": {
          "base_uri": "https://localhost:8080/"
        },
        "id": "xUuQZPnLRH7K",
        "outputId": "9a4b4d60-a694-458c-bae6-335e728bf23e"
      },
      "execution_count": 4,
      "outputs": [
        {
          "output_type": "stream",
          "name": "stdout",
          "text": [
            "--- Sample 1 ---\n",
            "In this truly fascinating, dark film, a young impoverished student sells his soul to the devil for a lot of money, in return the devil takes his mirror image (this is done brilliantly in the movie and eerily presaged when Balduin, the student is earlier practicing swordsmanship in front of the mirror), a visual metaphor for a \"man at war with himself\" which portents his immediate future. The student enjoys his money, but the woman he loves is unattainable (he has made a pact with the devil, he i\n",
            "\n",
            "--- Sample 2 ---\n",
            "A childless couple (Brooke Adams, Jeff Hayenga) go to a doctor (James Karen) to try to conceive. It works but Adams slowly becomes aware that there's something seriously wrong with the baby...<br /><br />Pretty interesting idea is thoroughly done in by a lousy script--the basic idea is OK but becomes screamingly predictable towards the end. I saw every \"twist\" coming. The direction is poor--he seems to have no idea how to shoot a basic scene. The production values are--to be nice--lousy. Very sh\n",
            "\n",
            "--- Sample 3 ---\n",
            "Thanks to Warner Archive, I can once again see this mammoth variety show which throws in everything but the kitchen sink. (The bathtub, however is present.) This film gives screen time to every person who was under contract to Warners at the time. If some of the artists seem unfamiliar to some, it is because they were big in the silent days, and most faded with the popularity of the talkies. There are some truly remarkable artists from the vaudeville era as well. You will be most impressed with \n",
            "\n",
            "--- Sample 4 ---\n",
            "I was skeptical when I first saw the Calvin Kline-esque commercials, but thought I'd give it a chance. So I've watched it, and all I can say is bleh. This movie was so bad. It's rare that I hate a movie this much. Watching this flick reminded me of those funny scenes in Altman's \"The Player,\" when the writers pitch their bizarre ideas to producers. I'd like to know which MTV producer decided that an hour and a half long music video adaptation of Bronte (but this time Heathcliff's name is Heath a\n",
            "\n",
            "--- Sample 5 ---\n",
            "In the '70s, Charlton Heston starred in sci-fi flicks of varying quality. \"Soylent Green\" is one of the better ones. He plays Robert Thorn, a detective in 2022 New York. In this future, most food is so expensive that everyone needs a product called Soylent Green. But when Thorn finds out the unsavory truth about this product, he finds himself on the run.<br /><br />I guess that it's only natural that this movie should seem dated to us nowadays. But even so, it still brings up interesting questio\n",
            "\n"
          ]
        }
      ]
    },
    {
      "cell_type": "markdown",
      "source": [
        "Preprocessing"
      ],
      "metadata": {
        "id": "6EdXnmPzQ03n"
      }
    },
    {
      "cell_type": "code",
      "source": [
        "#Remove empty and short reviews\n",
        "\n",
        "def rem_empty(example):\n",
        "    return len(example[\"text\"].strip()) > 20\n",
        "\n",
        "dataset = dataset.filter(rem_empty)"
      ],
      "metadata": {
        "id": "_3k0M07WQ0gG"
      },
      "execution_count": 5,
      "outputs": []
    },
    {
      "cell_type": "code",
      "source": [
        "#Remove HTML break tags and replace with space\n",
        "\n",
        "def clean_text(example):\n",
        "    text = example[\"text\"]\n",
        "    text = re.sub(r\"<br\\s*/?>\", \" \", text)\n",
        "    example[\"text\"] = text.strip()\n",
        "    return example\n",
        "\n",
        "#Apply cleaning to entire dataset\n",
        "dataset = dataset.map(clean_text)"
      ],
      "metadata": {
        "id": "T8Fv0W1aRlhC"
      },
      "execution_count": 6,
      "outputs": []
    },
    {
      "cell_type": "markdown",
      "source": [
        "Tokenization using BertTokenizerFast"
      ],
      "metadata": {
        "id": "HNiojL_RRwCL"
      }
    },
    {
      "cell_type": "code",
      "source": [
        "#Create subset for train and test\n",
        "\n",
        "small_train = dataset[\"train\"].shuffle(seed=42).select(range(2000))\n",
        "small_test = dataset[\"test\"].shuffle(seed=42).select(range(1000))"
      ],
      "metadata": {
        "id": "bmnh-YKHi8hX"
      },
      "execution_count": 7,
      "outputs": []
    },
    {
      "cell_type": "code",
      "source": [
        "#Define tokenization function\n",
        "\n",
        "from transformers import BertTokenizerFast\n",
        "\n",
        "#Load tokenizer\n",
        "tokenizer = BertTokenizerFast.from_pretrained(\"bert-base-uncased\")\n",
        "\n",
        "#Tokenization function\n",
        "def tokenize(example):\n",
        "    return tokenizer(example[\"text\"], truncation=True, padding=\"max_length\", max_length=128)\n",
        "\n",
        "#Tokenize\n",
        "tokenized_train = small_train.map(tokenize, batched=True)\n",
        "tokenized_test = small_test.map(tokenize, batched=True)"
      ],
      "metadata": {
        "id": "I00So7m1R3yZ",
        "colab": {
          "base_uri": "https://localhost:8080/",
          "height": 136,
          "referenced_widgets": [
            "2667d09267464d558a768985705c98ec",
            "c063b2a5a68945f9aef3006c2ea0d9ef",
            "07285f91702c45dbb26cc95f1f61d75c",
            "a1676f20ba2b4764a14c8d7602eb50a0",
            "649ce6b1194046b7902f0ab81ffbba83",
            "77420243c20549998ca526bd1b1a6910",
            "981315bfff824b24ab20c0e47676a8dc",
            "3f6ef9127e30411cb5352a89f67a3301",
            "a17efd46609a469789a74eb746500083",
            "311b5dd3df50495ba894324c8adfb9d5",
            "50574f8f95c34fe88471b748ea1635e6",
            "052d9338acd743c8b2513f910a9d4354",
            "a619f639fc1241e486c5000916d59eee",
            "050e481a9c964d6593b47b1217af5f21",
            "4e563c42e9a2453bb8d538340b65da82",
            "580c962dde3049689c341a34771d6c2d",
            "238046589b214c51b396e2978fbd993f",
            "33aad37808ee4447b9cea4e2cd873953",
            "36ce4bb9b69444edad754de2dc57ce92",
            "c60926f689d54469a7bfcd0b68b1aee5",
            "6c1f301818964af9b97305ba3c4fae63",
            "92f170d0ce5244b186303dc4b428d91b"
          ]
        },
        "outputId": "6ad5148b-b5d7-4d21-e05f-1d4ab28d88ee"
      },
      "execution_count": 8,
      "outputs": [
        {
          "output_type": "stream",
          "name": "stderr",
          "text": [
            "/usr/local/lib/python3.11/dist-packages/huggingface_hub/file_download.py:943: FutureWarning: `resume_download` is deprecated and will be removed in version 1.0.0. Downloads always resume when possible. If you want to force a new download, use `force_download=True`.\n",
            "  warnings.warn(\n"
          ]
        },
        {
          "output_type": "display_data",
          "data": {
            "text/plain": [
              "Map:   0%|          | 0/2000 [00:00<?, ? examples/s]"
            ],
            "application/vnd.jupyter.widget-view+json": {
              "version_major": 2,
              "version_minor": 0,
              "model_id": "2667d09267464d558a768985705c98ec"
            }
          },
          "metadata": {}
        },
        {
          "output_type": "display_data",
          "data": {
            "text/plain": [
              "Map:   0%|          | 0/1000 [00:00<?, ? examples/s]"
            ],
            "application/vnd.jupyter.widget-view+json": {
              "version_major": 2,
              "version_minor": 0,
              "model_id": "052d9338acd743c8b2513f910a9d4354"
            }
          },
          "metadata": {}
        }
      ]
    },
    {
      "cell_type": "code",
      "source": [
        "#Removing th raw text\n",
        "\n",
        "tokenized_train = tokenized_train.remove_columns([\"text\"])\n",
        "tokenized_test = tokenized_test.remove_columns([\"text\"])"
      ],
      "metadata": {
        "id": "jw52QNZhjQik"
      },
      "execution_count": 9,
      "outputs": []
    },
    {
      "cell_type": "code",
      "source": [
        "#Set format for PyTorch\n",
        "\n",
        "from transformers import DataCollatorWithPadding\n",
        "\n",
        "tokenized_train.set_format(\"torch\", columns=[\"input_ids\", \"attention_mask\", \"label\"])\n",
        "tokenized_test.set_format(\"torch\", columns=[\"input_ids\", \"attention_mask\", \"label\"])\n",
        "\n",
        "data_collator = DataCollatorWithPadding(tokenizer=tokenizer)"
      ],
      "metadata": {
        "id": "EO9KEGuKab_5"
      },
      "execution_count": 11,
      "outputs": []
    },
    {
      "cell_type": "code",
      "source": [
        "#Data loader\n",
        "\n",
        "train_loader = DataLoader(tokenized_train, batch_size=16, shuffle=True, collate_fn=data_collator)\n",
        "test_loader = DataLoader(tokenized_test, batch_size=16, collate_fn=data_collator)"
      ],
      "metadata": {
        "id": "cxB0H3NOnHqi"
      },
      "execution_count": 12,
      "outputs": []
    },
    {
      "cell_type": "code",
      "source": [
        "#Load model and optimizer\n",
        "\n",
        "from transformers import AdamW\n",
        "\n",
        "device = torch.device(\"cuda\" if torch.cuda.is_available() else \"cpu\")\n",
        "model = BertForSequenceClassification.from_pretrained(\"bert-base-uncased\", num_labels=2).to(device)\n",
        "optimizer = AdamW(model.parameters(), lr=2e-5)"
      ],
      "metadata": {
        "colab": {
          "base_uri": "https://localhost:8080/"
        },
        "id": "zAnKTUzYjsk3",
        "outputId": "2d3d7f58-b342-4d49-fa23-fd06052749ee"
      },
      "execution_count": 13,
      "outputs": [
        {
          "output_type": "stream",
          "name": "stderr",
          "text": [
            "/usr/local/lib/python3.11/dist-packages/huggingface_hub/file_download.py:943: FutureWarning: `resume_download` is deprecated and will be removed in version 1.0.0. Downloads always resume when possible. If you want to force a new download, use `force_download=True`.\n",
            "  warnings.warn(\n",
            "Some weights of BertForSequenceClassification were not initialized from the model checkpoint at bert-base-uncased and are newly initialized: ['classifier.bias', 'classifier.weight']\n",
            "You should probably TRAIN this model on a down-stream task to be able to use it for predictions and inference.\n",
            "/usr/local/lib/python3.11/dist-packages/transformers/optimization.py:429: FutureWarning: This implementation of AdamW is deprecated and will be removed in a future version. Use the PyTorch implementation torch.optim.AdamW instead, or set `no_deprecation_warning=True` to disable this warning\n",
            "  warnings.warn(\n"
          ]
        }
      ]
    },
    {
      "cell_type": "code",
      "source": [
        "#Train loop\n",
        "\n",
        "epochs = 2\n",
        "for epoch in range(epochs):\n",
        "    model.train()\n",
        "    total_loss = 0\n",
        "    for batch in tqdm(train_loader, desc=f\"Training Epoch {epoch+1}\"):\n",
        "        batch = {k: v.to(device) for k, v in batch.items()}\n",
        "        outputs = model(**batch)\n",
        "        loss = outputs.loss\n",
        "        loss.backward()\n",
        "        optimizer.step()\n",
        "        optimizer.zero_grad()\n",
        "        total_loss += loss.item()\n",
        "    print(f\"Epoch {epoch+1} - Loss: {total_loss:.4f}\")"
      ],
      "metadata": {
        "colab": {
          "base_uri": "https://localhost:8080/"
        },
        "id": "t0HrfN7Gn4nE",
        "outputId": "0d18b63b-1dca-4f26-d670-856ddbd4b9dd"
      },
      "execution_count": 14,
      "outputs": [
        {
          "output_type": "stream",
          "name": "stderr",
          "text": [
            "Training Epoch 1: 100%|██████████| 125/125 [00:42<00:00,  2.97it/s]\n"
          ]
        },
        {
          "output_type": "stream",
          "name": "stdout",
          "text": [
            "Epoch 1 - Loss: 62.3649\n"
          ]
        },
        {
          "output_type": "stream",
          "name": "stderr",
          "text": [
            "Training Epoch 2: 100%|██████████| 125/125 [00:45<00:00,  2.78it/s]"
          ]
        },
        {
          "output_type": "stream",
          "name": "stdout",
          "text": [
            "Epoch 2 - Loss: 31.6221\n"
          ]
        },
        {
          "output_type": "stream",
          "name": "stderr",
          "text": [
            "\n"
          ]
        }
      ]
    },
    {
      "cell_type": "markdown",
      "source": [
        "Evaluation"
      ],
      "metadata": {
        "id": "6Dm_njtkpvLk"
      }
    },
    {
      "cell_type": "code",
      "source": [
        "model.eval()\n",
        "all_preds, all_labels = [], []\n",
        "\n",
        "with torch.no_grad():\n",
        "    for batch in tqdm(test_loader, desc=\"Evaluating\"):\n",
        "        batch = {k: v.to(device) for k, v in batch.items()}\n",
        "        outputs = model(**batch)\n",
        "        logits = outputs.logits\n",
        "        predictions = torch.argmax(logits, dim=-1)\n",
        "        all_preds.extend(predictions.cpu().numpy())\n",
        "        all_labels.extend(batch[\"labels\"].cpu().numpy())\n",
        "\n",
        "acc = accuracy_score(all_labels, all_preds)\n",
        "print(f\"\\n Test Accuracy: {acc:.4f}\\n\")\n",
        "print(\"Classification Report:\")\n",
        "print(classification_report(all_labels, all_preds, target_names=[\"Negative\", \"Positive\"]))"
      ],
      "metadata": {
        "colab": {
          "base_uri": "https://localhost:8080/"
        },
        "id": "_UAFF1I_pylM",
        "outputId": "d201889f-e44d-4ec6-9301-2726cb28c403"
      },
      "execution_count": 16,
      "outputs": [
        {
          "output_type": "stream",
          "name": "stderr",
          "text": [
            "Evaluating: 100%|██████████| 63/63 [00:07<00:00,  7.97it/s]\n"
          ]
        },
        {
          "output_type": "stream",
          "name": "stdout",
          "text": [
            "\n",
            " Test Accuracy: 0.8400\n",
            "\n",
            "Classification Report:\n",
            "              precision    recall  f1-score   support\n",
            "\n",
            "    Negative       0.93      0.74      0.83       512\n",
            "    Positive       0.78      0.94      0.85       488\n",
            "\n",
            "    accuracy                           0.84      1000\n",
            "   macro avg       0.85      0.84      0.84      1000\n",
            "weighted avg       0.86      0.84      0.84      1000\n",
            "\n"
          ]
        }
      ]
    },
    {
      "cell_type": "code",
      "source": [
        "#Compute the confusion matrix\n",
        "cm = confusion_matrix(all_labels, all_preds, labels=[0, 1])\n",
        "\n",
        "#Display the matrix\n",
        "disp = ConfusionMatrixDisplay(confusion_matrix=cm, display_labels=[\"Negative\", \"Positive\"])\n",
        "\n",
        "#Plot\n",
        "plt.figure(figsize=(6, 5))\n",
        "disp.plot(cmap=\"Blues\", values_format='d')\n",
        "plt.title(\"Confusion Matrix\")\n",
        "plt.show()"
      ],
      "metadata": {
        "colab": {
          "base_uri": "https://localhost:8080/",
          "height": 489
        },
        "id": "-JWucw--qt7M",
        "outputId": "24b52ccd-f461-4604-a4e4-39ca80697ac0"
      },
      "execution_count": 19,
      "outputs": [
        {
          "output_type": "display_data",
          "data": {
            "text/plain": [
              "<Figure size 600x500 with 0 Axes>"
            ]
          },
          "metadata": {}
        },
        {
          "output_type": "display_data",
          "data": {
            "text/plain": [
              "<Figure size 640x480 with 2 Axes>"
            ],
            "image/png": "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\n"
          },
          "metadata": {}
        }
      ]
    }
  ]
}
